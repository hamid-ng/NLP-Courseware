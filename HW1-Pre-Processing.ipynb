{
 "cells": [
  {
   "cell_type": "code",
   "execution_count": 14,
   "outputs": [
    {
     "name": "stdout",
     "output_type": "stream",
     "text": [
      "Requirement already satisfied: pandas in c:\\users\\hamid\\appdata\\local\\programs\\python\\python312\\lib\\site-packages (2.2.1)\n",
      "Collecting nltk\n",
      "  Downloading nltk-3.8.1-py3-none-any.whl.metadata (2.8 kB)\n",
      "Requirement already satisfied: numpy<2,>=1.26.0 in c:\\users\\hamid\\appdata\\local\\programs\\python\\python312\\lib\\site-packages (from pandas) (1.26.4)\n",
      "Requirement already satisfied: python-dateutil>=2.8.2 in c:\\users\\hamid\\appdata\\local\\programs\\python\\python312\\lib\\site-packages (from pandas) (2.9.0.post0)\n",
      "Requirement already satisfied: pytz>=2020.1 in c:\\users\\hamid\\appdata\\local\\programs\\python\\python312\\lib\\site-packages (from pandas) (2024.1)\n",
      "Requirement already satisfied: tzdata>=2022.7 in c:\\users\\hamid\\appdata\\local\\programs\\python\\python312\\lib\\site-packages (from pandas) (2024.1)\n",
      "Collecting click (from nltk)\n",
      "  Downloading click-8.1.7-py3-none-any.whl.metadata (3.0 kB)\n",
      "Collecting joblib (from nltk)\n",
      "  Downloading joblib-1.3.2-py3-none-any.whl.metadata (5.4 kB)\n",
      "Collecting regex>=2021.8.3 (from nltk)\n",
      "  Downloading regex-2023.12.25-cp312-cp312-win_amd64.whl.metadata (41 kB)\n",
      "     ---------------------------------------- 0.0/42.0 kB ? eta -:--:--\n",
      "     --------- ------------------------------ 10.2/42.0 kB ? eta -:--:--\n",
      "     --------- ------------------------------ 10.2/42.0 kB ? eta -:--:--\n",
      "     --------- ------------------------------ 10.2/42.0 kB ? eta -:--:--\n",
      "     --------------------------- ---------- 30.7/42.0 kB 108.9 kB/s eta 0:00:01\n",
      "     --------------------------- ---------- 30.7/42.0 kB 108.9 kB/s eta 0:00:01\n",
      "     --------------------------- ---------- 30.7/42.0 kB 108.9 kB/s eta 0:00:01\n",
      "     --------------------------- ---------- 30.7/42.0 kB 108.9 kB/s eta 0:00:01\n",
      "     --------------------------------------- 42.0/42.0 kB 88.1 kB/s eta 0:00:00\n",
      "Requirement already satisfied: tqdm in c:\\users\\hamid\\appdata\\local\\programs\\python\\python312\\lib\\site-packages (from nltk) (4.66.2)\n",
      "Requirement already satisfied: six>=1.5 in c:\\users\\hamid\\appdata\\local\\programs\\python\\python312\\lib\\site-packages (from python-dateutil>=2.8.2->pandas) (1.16.0)\n",
      "Requirement already satisfied: colorama in c:\\users\\hamid\\appdata\\local\\programs\\python\\python312\\lib\\site-packages (from click->nltk) (0.4.6)\n",
      "Downloading nltk-3.8.1-py3-none-any.whl (1.5 MB)\n",
      "   ---------------------------------------- 0.0/1.5 MB ? eta -:--:--\n",
      "   ---------------------------------------- 0.0/1.5 MB ? eta -:--:--\n",
      "   - -------------------------------------- 0.0/1.5 MB 991.0 kB/s eta 0:00:02\n",
      "   - -------------------------------------- 0.0/1.5 MB 991.0 kB/s eta 0:00:02\n",
      "   - -------------------------------------- 0.1/1.5 MB 363.1 kB/s eta 0:00:04\n",
      "   --- ------------------------------------ 0.1/1.5 MB 708.1 kB/s eta 0:00:02\n",
      "   ---- ----------------------------------- 0.2/1.5 MB 756.6 kB/s eta 0:00:02\n",
      "   ---- ----------------------------------- 0.2/1.5 MB 756.6 kB/s eta 0:00:02\n",
      "   ----- ---------------------------------- 0.2/1.5 MB 593.2 kB/s eta 0:00:03\n",
      "   -------- ------------------------------- 0.3/1.5 MB 791.9 kB/s eta 0:00:02\n",
      "   ---------- ----------------------------- 0.4/1.5 MB 946.4 kB/s eta 0:00:02\n",
      "   ---------- ----------------------------- 0.4/1.5 MB 946.4 kB/s eta 0:00:02\n",
      "   ----------- ---------------------------- 0.5/1.5 MB 853.3 kB/s eta 0:00:02\n",
      "   --------------- ------------------------ 0.6/1.5 MB 1.0 MB/s eta 0:00:01\n",
      "   ------------------ --------------------- 0.7/1.5 MB 1.1 MB/s eta 0:00:01\n",
      "   -------------------- ------------------- 0.8/1.5 MB 1.1 MB/s eta 0:00:01\n",
      "   --------------------- ------------------ 0.8/1.5 MB 1.1 MB/s eta 0:00:01\n",
      "   ------------------------ --------------- 0.9/1.5 MB 1.2 MB/s eta 0:00:01\n",
      "   --------------------------- ------------ 1.0/1.5 MB 1.3 MB/s eta 0:00:01\n",
      "   ------------------------------- -------- 1.2/1.5 MB 1.4 MB/s eta 0:00:01\n",
      "   ---------------------------------- ----- 1.3/1.5 MB 1.4 MB/s eta 0:00:01\n",
      "   ------------------------------------ --- 1.4/1.5 MB 1.5 MB/s eta 0:00:01\n",
      "   -------------------------------------- - 1.4/1.5 MB 1.5 MB/s eta 0:00:01\n",
      "   ---------------------------------------- 1.5/1.5 MB 1.5 MB/s eta 0:00:00\n",
      "Downloading regex-2023.12.25-cp312-cp312-win_amd64.whl (268 kB)\n",
      "   ---------------------------------------- 0.0/268.9 kB ? eta -:--:--\n",
      "   ------------- -------------------------- 92.2/268.9 kB 5.1 MB/s eta 0:00:01\n",
      "   ------------------------------------ --- 245.8/268.9 kB 3.0 MB/s eta 0:00:01\n",
      "   ---------------------------------------- 268.9/268.9 kB 2.8 MB/s eta 0:00:00\n",
      "Downloading click-8.1.7-py3-none-any.whl (97 kB)\n",
      "   ---------------------------------------- 0.0/97.9 kB ? eta -:--:--\n",
      "   ---------------------------------------- 97.9/97.9 kB 5.5 MB/s eta 0:00:00\n",
      "Downloading joblib-1.3.2-py3-none-any.whl (302 kB)\n",
      "   ---------------------------------------- 0.0/302.2 kB ? eta -:--:--\n",
      "   ------------ --------------------------- 92.2/302.2 kB 5.5 MB/s eta 0:00:01\n",
      "   ------------------ --------------------- 143.4/302.2 kB 1.7 MB/s eta 0:00:01\n",
      "   ---------------------------------------  297.0/302.2 kB 2.3 MB/s eta 0:00:01\n",
      "   ---------------------------------------- 302.2/302.2 kB 2.3 MB/s eta 0:00:00\n",
      "Installing collected packages: regex, joblib, click, nltk\n",
      "Successfully installed click-8.1.7 joblib-1.3.2 nltk-3.8.1 regex-2023.12.25\n"
     ]
    }
   ],
   "source": [
    "!pip install pandas nltk"
   ],
   "metadata": {
    "collapsed": false,
    "ExecuteTime": {
     "end_time": "2024-04-01T10:59:57.603369Z",
     "start_time": "2024-04-01T10:59:39.278581600Z"
    }
   }
  },
  {
   "cell_type": "code",
   "execution_count": null,
   "outputs": [],
   "source": [],
   "metadata": {
    "collapsed": false
   }
  },
  {
   "cell_type": "code",
   "execution_count": 4,
   "metadata": {
    "collapsed": true,
    "ExecuteTime": {
     "end_time": "2024-04-01T10:26:45.791207800Z",
     "start_time": "2024-04-01T10:26:44.265214700Z"
    }
   },
   "outputs": [],
   "source": [
    "import pandas as pd"
   ]
  },
  {
   "cell_type": "code",
   "execution_count": 30,
   "outputs": [],
   "source": [
    "df = pd.read_csv('movies.csv')"
   ],
   "metadata": {
    "collapsed": false,
    "ExecuteTime": {
     "end_time": "2024-03-31T20:41:47.446616100Z",
     "start_time": "2024-03-31T20:41:47.363220400Z"
    }
   }
  },
  {
   "cell_type": "markdown",
   "source": [
    "<p style=\"direction: rtl; text-align: right; font-size: 18px; font-family: B Nazanin;\">اطلاعات کلی دیتاست جمع‌آوری شده به صورت زیر قابل مشاهده می‌باشد</p>\n"
   ],
   "metadata": {
    "collapsed": false
   }
  },
  {
   "cell_type": "code",
   "execution_count": 31,
   "outputs": [
    {
     "name": "stdout",
     "output_type": "stream",
     "text": [
      "<class 'pandas.core.frame.DataFrame'>\n",
      "RangeIndex: 13839 entries, 0 to 13838\n",
      "Data columns (total 6 columns):\n",
      " #   Column        Non-Null Count  Dtype  \n",
      "---  ------        --------------  -----  \n",
      " 0   Unnamed: 0    13839 non-null  int64  \n",
      " 1   name          13839 non-null  object \n",
      " 2   year          13839 non-null  int64  \n",
      " 3   score         13839 non-null  float64\n",
      " 4   voters_count  13839 non-null  object \n",
      " 5   plot          13831 non-null  object \n",
      "dtypes: float64(1), int64(2), object(3)\n",
      "memory usage: 648.8+ KB\n"
     ]
    }
   ],
   "source": [
    "df.info()"
   ],
   "metadata": {
    "collapsed": false,
    "ExecuteTime": {
     "end_time": "2024-03-31T20:41:49.770817300Z",
     "start_time": "2024-03-31T20:41:49.750532600Z"
    }
   }
  },
  {
   "cell_type": "code",
   "execution_count": 32,
   "outputs": [
    {
     "data": {
      "text/plain": "   Unnamed: 0                                       name  year  score  \\\n0           0                              1. Road House  1989    6.7   \n1           1                                    2. Dune  1984    6.3   \n2           2                             3. Beetlejuice  1988    7.5   \n3           3                            4. Ghostbusters  1984    7.8   \n4           4                                5. The Crow  1994    7.5   \n5           5                6. The Shawshank Redemption  1994    9.3   \n6           6                           7. The Godfather  1972    9.2   \n7           7                            8. Come and See  1985    8.4   \n8           8                           9. The Vanishing  1988    7.7   \n9           9  10. Eternal Sunshine of the Spotless Mind  2004    8.3   \n\n  voters_count                                               plot  \n0          92K  A bouncer hired to clean up the baddest honkyt...  \n1         177K  A Duke's son leads desert warriors against the...  \n2         337K  The spirits of a deceased couple are harassed ...  \n3         445K  Three parapsychologists forced out of their un...  \n4         201K  A man brutally murdered comes back to life as ...  \n5         2.9M  Over the course of several years, two convicts...  \n6           2M  The aging patriarch of an organized crime dyna...  \n7          96K  After finding an old rifle, a young boy joins ...  \n8          44K  Rex and Saskia, a young couple in love, are on...  \n9         1.1M  When their relationship turns sour, a couple u...  ",
      "text/html": "<div>\n<style scoped>\n    .dataframe tbody tr th:only-of-type {\n        vertical-align: middle;\n    }\n\n    .dataframe tbody tr th {\n        vertical-align: top;\n    }\n\n    .dataframe thead th {\n        text-align: right;\n    }\n</style>\n<table border=\"1\" class=\"dataframe\">\n  <thead>\n    <tr style=\"text-align: right;\">\n      <th></th>\n      <th>Unnamed: 0</th>\n      <th>name</th>\n      <th>year</th>\n      <th>score</th>\n      <th>voters_count</th>\n      <th>plot</th>\n    </tr>\n  </thead>\n  <tbody>\n    <tr>\n      <th>0</th>\n      <td>0</td>\n      <td>1. Road House</td>\n      <td>1989</td>\n      <td>6.7</td>\n      <td>92K</td>\n      <td>A bouncer hired to clean up the baddest honkyt...</td>\n    </tr>\n    <tr>\n      <th>1</th>\n      <td>1</td>\n      <td>2. Dune</td>\n      <td>1984</td>\n      <td>6.3</td>\n      <td>177K</td>\n      <td>A Duke's son leads desert warriors against the...</td>\n    </tr>\n    <tr>\n      <th>2</th>\n      <td>2</td>\n      <td>3. Beetlejuice</td>\n      <td>1988</td>\n      <td>7.5</td>\n      <td>337K</td>\n      <td>The spirits of a deceased couple are harassed ...</td>\n    </tr>\n    <tr>\n      <th>3</th>\n      <td>3</td>\n      <td>4. Ghostbusters</td>\n      <td>1984</td>\n      <td>7.8</td>\n      <td>445K</td>\n      <td>Three parapsychologists forced out of their un...</td>\n    </tr>\n    <tr>\n      <th>4</th>\n      <td>4</td>\n      <td>5. The Crow</td>\n      <td>1994</td>\n      <td>7.5</td>\n      <td>201K</td>\n      <td>A man brutally murdered comes back to life as ...</td>\n    </tr>\n    <tr>\n      <th>5</th>\n      <td>5</td>\n      <td>6. The Shawshank Redemption</td>\n      <td>1994</td>\n      <td>9.3</td>\n      <td>2.9M</td>\n      <td>Over the course of several years, two convicts...</td>\n    </tr>\n    <tr>\n      <th>6</th>\n      <td>6</td>\n      <td>7. The Godfather</td>\n      <td>1972</td>\n      <td>9.2</td>\n      <td>2M</td>\n      <td>The aging patriarch of an organized crime dyna...</td>\n    </tr>\n    <tr>\n      <th>7</th>\n      <td>7</td>\n      <td>8. Come and See</td>\n      <td>1985</td>\n      <td>8.4</td>\n      <td>96K</td>\n      <td>After finding an old rifle, a young boy joins ...</td>\n    </tr>\n    <tr>\n      <th>8</th>\n      <td>8</td>\n      <td>9. The Vanishing</td>\n      <td>1988</td>\n      <td>7.7</td>\n      <td>44K</td>\n      <td>Rex and Saskia, a young couple in love, are on...</td>\n    </tr>\n    <tr>\n      <th>9</th>\n      <td>9</td>\n      <td>10. Eternal Sunshine of the Spotless Mind</td>\n      <td>2004</td>\n      <td>8.3</td>\n      <td>1.1M</td>\n      <td>When their relationship turns sour, a couple u...</td>\n    </tr>\n  </tbody>\n</table>\n</div>"
     },
     "execution_count": 32,
     "metadata": {},
     "output_type": "execute_result"
    }
   ],
   "source": [
    "df.head(10)"
   ],
   "metadata": {
    "collapsed": false,
    "ExecuteTime": {
     "end_time": "2024-03-31T20:41:53.723948400Z",
     "start_time": "2024-03-31T20:41:53.700579200Z"
    }
   }
  },
  {
   "cell_type": "markdown",
   "source": [
    "<p style=\"direction: rtl; text-align: right; font-size: 18px; font-family: B Nazanin;\">ابتدای نام فیلم‌ها دارای شماره می‌باشد که می‌خواهیم آن‌ها را حذف کنیم. این شماره‌ها ترتیب فیلم در لیست فیلم‌ها می باشد. در همه موارد بعد از عدد یک نقطه وجود دارد. با استفاده از این الگو اولین نقطه‌ای که در اسم آمده است را پیدا می‌کنیم و فقط بعد آن نقطه را نگه‌ می‌داریم</p>\n"
   ],
   "metadata": {
    "collapsed": false
   }
  },
  {
   "cell_type": "code",
   "execution_count": 33,
   "outputs": [],
   "source": [
    "for i in range(df.shape[0]):\n",
    "    first_dot = df.loc[i, 'name'].find('.')\n",
    "    df.loc[i, 'name'] = df.loc[i, 'name'][first_dot+1:]"
   ],
   "metadata": {
    "collapsed": false,
    "ExecuteTime": {
     "end_time": "2024-03-31T20:42:08.600284700Z",
     "start_time": "2024-03-31T20:42:01.715413100Z"
    }
   }
  },
  {
   "cell_type": "code",
   "execution_count": 34,
   "outputs": [
    {
     "data": {
      "text/plain": "   Unnamed: 0                                    name  year  score  \\\n0           0                              Road House  1989    6.7   \n1           1                                    Dune  1984    6.3   \n2           2                             Beetlejuice  1988    7.5   \n3           3                            Ghostbusters  1984    7.8   \n4           4                                The Crow  1994    7.5   \n5           5                The Shawshank Redemption  1994    9.3   \n6           6                           The Godfather  1972    9.2   \n7           7                            Come and See  1985    8.4   \n8           8                           The Vanishing  1988    7.7   \n9           9   Eternal Sunshine of the Spotless Mind  2004    8.3   \n\n  voters_count                                               plot  \n0          92K  A bouncer hired to clean up the baddest honkyt...  \n1         177K  A Duke's son leads desert warriors against the...  \n2         337K  The spirits of a deceased couple are harassed ...  \n3         445K  Three parapsychologists forced out of their un...  \n4         201K  A man brutally murdered comes back to life as ...  \n5         2.9M  Over the course of several years, two convicts...  \n6           2M  The aging patriarch of an organized crime dyna...  \n7          96K  After finding an old rifle, a young boy joins ...  \n8          44K  Rex and Saskia, a young couple in love, are on...  \n9         1.1M  When their relationship turns sour, a couple u...  ",
      "text/html": "<div>\n<style scoped>\n    .dataframe tbody tr th:only-of-type {\n        vertical-align: middle;\n    }\n\n    .dataframe tbody tr th {\n        vertical-align: top;\n    }\n\n    .dataframe thead th {\n        text-align: right;\n    }\n</style>\n<table border=\"1\" class=\"dataframe\">\n  <thead>\n    <tr style=\"text-align: right;\">\n      <th></th>\n      <th>Unnamed: 0</th>\n      <th>name</th>\n      <th>year</th>\n      <th>score</th>\n      <th>voters_count</th>\n      <th>plot</th>\n    </tr>\n  </thead>\n  <tbody>\n    <tr>\n      <th>0</th>\n      <td>0</td>\n      <td>Road House</td>\n      <td>1989</td>\n      <td>6.7</td>\n      <td>92K</td>\n      <td>A bouncer hired to clean up the baddest honkyt...</td>\n    </tr>\n    <tr>\n      <th>1</th>\n      <td>1</td>\n      <td>Dune</td>\n      <td>1984</td>\n      <td>6.3</td>\n      <td>177K</td>\n      <td>A Duke's son leads desert warriors against the...</td>\n    </tr>\n    <tr>\n      <th>2</th>\n      <td>2</td>\n      <td>Beetlejuice</td>\n      <td>1988</td>\n      <td>7.5</td>\n      <td>337K</td>\n      <td>The spirits of a deceased couple are harassed ...</td>\n    </tr>\n    <tr>\n      <th>3</th>\n      <td>3</td>\n      <td>Ghostbusters</td>\n      <td>1984</td>\n      <td>7.8</td>\n      <td>445K</td>\n      <td>Three parapsychologists forced out of their un...</td>\n    </tr>\n    <tr>\n      <th>4</th>\n      <td>4</td>\n      <td>The Crow</td>\n      <td>1994</td>\n      <td>7.5</td>\n      <td>201K</td>\n      <td>A man brutally murdered comes back to life as ...</td>\n    </tr>\n    <tr>\n      <th>5</th>\n      <td>5</td>\n      <td>The Shawshank Redemption</td>\n      <td>1994</td>\n      <td>9.3</td>\n      <td>2.9M</td>\n      <td>Over the course of several years, two convicts...</td>\n    </tr>\n    <tr>\n      <th>6</th>\n      <td>6</td>\n      <td>The Godfather</td>\n      <td>1972</td>\n      <td>9.2</td>\n      <td>2M</td>\n      <td>The aging patriarch of an organized crime dyna...</td>\n    </tr>\n    <tr>\n      <th>7</th>\n      <td>7</td>\n      <td>Come and See</td>\n      <td>1985</td>\n      <td>8.4</td>\n      <td>96K</td>\n      <td>After finding an old rifle, a young boy joins ...</td>\n    </tr>\n    <tr>\n      <th>8</th>\n      <td>8</td>\n      <td>The Vanishing</td>\n      <td>1988</td>\n      <td>7.7</td>\n      <td>44K</td>\n      <td>Rex and Saskia, a young couple in love, are on...</td>\n    </tr>\n    <tr>\n      <th>9</th>\n      <td>9</td>\n      <td>Eternal Sunshine of the Spotless Mind</td>\n      <td>2004</td>\n      <td>8.3</td>\n      <td>1.1M</td>\n      <td>When their relationship turns sour, a couple u...</td>\n    </tr>\n  </tbody>\n</table>\n</div>"
     },
     "execution_count": 34,
     "metadata": {},
     "output_type": "execute_result"
    }
   ],
   "source": [
    "df.head(10)"
   ],
   "metadata": {
    "collapsed": false,
    "ExecuteTime": {
     "end_time": "2024-03-31T20:42:14.455398500Z",
     "start_time": "2024-03-31T20:42:14.447852100Z"
    }
   }
  },
  {
   "cell_type": "code",
   "execution_count": 35,
   "outputs": [],
   "source": [
    "df.to_csv('movies.csv')"
   ],
   "metadata": {
    "collapsed": false,
    "ExecuteTime": {
     "end_time": "2024-03-31T20:44:53.952673600Z",
     "start_time": "2024-03-31T20:44:53.770439200Z"
    }
   }
  },
  {
   "cell_type": "markdown",
   "source": [
    "### In this section, we convert the plot for all movies to lowercase format. This task is part of the normalization process, and our goal is to standardize the format of all words. For example, the words \"He,\" \"HE,\" and \"he\" have the same meaning but are not considered identical in technical terms.\n"
   ],
   "metadata": {
    "collapsed": false
   }
  },
  {
   "cell_type": "code",
   "execution_count": 40,
   "outputs": [
    {
     "data": {
      "text/plain": "   Unnamed: 0                                    name  year  score  \\\n0           0                              Road House  1989    6.7   \n1           1                                    Dune  1984    6.3   \n2           2                             Beetlejuice  1988    7.5   \n3           3                            Ghostbusters  1984    7.8   \n4           4                                The Crow  1994    7.5   \n5           5                The Shawshank Redemption  1994    9.3   \n6           6                           The Godfather  1972    9.2   \n7           7                            Come and See  1985    8.4   \n8           8                           The Vanishing  1988    7.7   \n9           9   Eternal Sunshine of the Spotless Mind  2004    8.3   \n\n  voters_count                                               plot  \n0          92K  a bouncer hired to clean up the baddest honkyt...  \n1         177K  a duke's son leads desert warriors against the...  \n2         337K  the spirits of a deceased couple are harassed ...  \n3         445K  three parapsychologists forced out of their un...  \n4         201K  a man brutally murdered comes back to life as ...  \n5         2.9M  over the course of several years, two convicts...  \n6           2M  the aging patriarch of an organized crime dyna...  \n7          96K  after finding an old rifle, a young boy joins ...  \n8          44K  rex and saskia, a young couple in love, are on...  \n9         1.1M  when their relationship turns sour, a couple u...  ",
      "text/html": "<div>\n<style scoped>\n    .dataframe tbody tr th:only-of-type {\n        vertical-align: middle;\n    }\n\n    .dataframe tbody tr th {\n        vertical-align: top;\n    }\n\n    .dataframe thead th {\n        text-align: right;\n    }\n</style>\n<table border=\"1\" class=\"dataframe\">\n  <thead>\n    <tr style=\"text-align: right;\">\n      <th></th>\n      <th>Unnamed: 0</th>\n      <th>name</th>\n      <th>year</th>\n      <th>score</th>\n      <th>voters_count</th>\n      <th>plot</th>\n    </tr>\n  </thead>\n  <tbody>\n    <tr>\n      <th>0</th>\n      <td>0</td>\n      <td>Road House</td>\n      <td>1989</td>\n      <td>6.7</td>\n      <td>92K</td>\n      <td>a bouncer hired to clean up the baddest honkyt...</td>\n    </tr>\n    <tr>\n      <th>1</th>\n      <td>1</td>\n      <td>Dune</td>\n      <td>1984</td>\n      <td>6.3</td>\n      <td>177K</td>\n      <td>a duke's son leads desert warriors against the...</td>\n    </tr>\n    <tr>\n      <th>2</th>\n      <td>2</td>\n      <td>Beetlejuice</td>\n      <td>1988</td>\n      <td>7.5</td>\n      <td>337K</td>\n      <td>the spirits of a deceased couple are harassed ...</td>\n    </tr>\n    <tr>\n      <th>3</th>\n      <td>3</td>\n      <td>Ghostbusters</td>\n      <td>1984</td>\n      <td>7.8</td>\n      <td>445K</td>\n      <td>three parapsychologists forced out of their un...</td>\n    </tr>\n    <tr>\n      <th>4</th>\n      <td>4</td>\n      <td>The Crow</td>\n      <td>1994</td>\n      <td>7.5</td>\n      <td>201K</td>\n      <td>a man brutally murdered comes back to life as ...</td>\n    </tr>\n    <tr>\n      <th>5</th>\n      <td>5</td>\n      <td>The Shawshank Redemption</td>\n      <td>1994</td>\n      <td>9.3</td>\n      <td>2.9M</td>\n      <td>over the course of several years, two convicts...</td>\n    </tr>\n    <tr>\n      <th>6</th>\n      <td>6</td>\n      <td>The Godfather</td>\n      <td>1972</td>\n      <td>9.2</td>\n      <td>2M</td>\n      <td>the aging patriarch of an organized crime dyna...</td>\n    </tr>\n    <tr>\n      <th>7</th>\n      <td>7</td>\n      <td>Come and See</td>\n      <td>1985</td>\n      <td>8.4</td>\n      <td>96K</td>\n      <td>after finding an old rifle, a young boy joins ...</td>\n    </tr>\n    <tr>\n      <th>8</th>\n      <td>8</td>\n      <td>The Vanishing</td>\n      <td>1988</td>\n      <td>7.7</td>\n      <td>44K</td>\n      <td>rex and saskia, a young couple in love, are on...</td>\n    </tr>\n    <tr>\n      <th>9</th>\n      <td>9</td>\n      <td>Eternal Sunshine of the Spotless Mind</td>\n      <td>2004</td>\n      <td>8.3</td>\n      <td>1.1M</td>\n      <td>when their relationship turns sour, a couple u...</td>\n    </tr>\n  </tbody>\n</table>\n</div>"
     },
     "execution_count": 40,
     "metadata": {},
     "output_type": "execute_result"
    }
   ],
   "source": [
    "for i in range(df.shape[0]):\n",
    "    df.loc[i, 'plot'] =  str(df.loc[i, 'plot']).lower()\n",
    "df.to_csv('movies.csv')"
   ],
   "metadata": {
    "collapsed": false,
    "ExecuteTime": {
     "end_time": "2024-03-31T20:57:18.909455400Z",
     "start_time": "2024-03-31T20:57:11.929820900Z"
    }
   }
  },
  {
   "cell_type": "markdown",
   "source": [
    "### Converting Abbreviation form to complete form. For example: I'm -> I am"
   ],
   "metadata": {
    "collapsed": false
   }
  },
  {
   "cell_type": "code",
   "execution_count": 56,
   "outputs": [
    {
     "data": {
      "text/plain": "'a french woman is a french woman. she is unable to refuse the wonderful gift of love. and i am willing to pay a high price for it.'"
     },
     "execution_count": 56,
     "metadata": {},
     "output_type": "execute_result"
    }
   ],
   "source": [
    "abbrev_dict = {\n",
    "    \"i'm\": \"i am\",\n",
    "    \"i'm'a\": \"i am about to\",\n",
    "    \"i'm'o\": \"i am going to\",\n",
    "    \"i'll\": \"i will\",\n",
    "    \"i'll've\": \"i will have\",\n",
    "    \"i'd've\": \"i would have\",\n",
    "    \"ain't\": \"am not\",\n",
    "    \"aren't\": \"are not\",\n",
    "    \"can't\": \"cannot\",\n",
    "    \"can't've\": \"cannot have\",\n",
    "    \"'cause\": \"because\",\n",
    "    \"could've\": \"could have\",\n",
    "    \"couldn't\": \"could not\",\n",
    "    \"couldn't've\": \"could not have\",\n",
    "    \"didn't\": \"did not\",\n",
    "    \"doesn't\": \"does not\",\n",
    "    \"don't\": \"do not\",\n",
    "    \"hadn't\": \"had not\",\n",
    "    \"hadn't've\": \"had not have\",\n",
    "    \"hasn't\": \"has not\",\n",
    "    \"haven't\": \"have not\",\n",
    "    \"he'd\": \"he would\",\n",
    "    \"he'd've\": \"he would have\",\n",
    "    \"he'll\": \"he will\",\n",
    "    \"he'll've\": \"he will have\",\n",
    "    \"he's\": \"he is\",\n",
    "    \"how'd\": \"how did\",\n",
    "    \"how'd'y\": \"how do you\",\n",
    "    \"how'll\": \"how will\",\n",
    "    \"how's\": \"how is\",\n",
    "    \"i'd\": \"i would\",\n",
    "    \"i've\": \"i have\",\n",
    "    \"isn't\": \"is not\",\n",
    "    \"it'd\": \"it had\",\n",
    "    \"it'd've\": \"it would have\",\n",
    "    \"it'll\": \"it will\",\n",
    "    \"it'll've\": \"it will have\",\n",
    "    \"it's\": \"it is\",\n",
    "    \"let's\": \"let us\",\n",
    "    \"ma'am\": \"madam\",\n",
    "    \"mayn't\": \"may not\",\n",
    "    \"might've\": \"might have\",\n",
    "    \"mightn't\": \"might not\",\n",
    "    \"mightn't've\": \"might not have\",\n",
    "    \"must've\": \"must have\",\n",
    "    \"mustn't\": \"must not\",\n",
    "    \"mustn't've\": \"must not have\",\n",
    "    \"needn't\": \"need not\",\n",
    "    \"needn't've\": \"need not have\",\n",
    "    \"o'clock\": \"of the clock\",\n",
    "    \"oughtn't\": \"ought not\",\n",
    "    \"oughtn't've\": \"ought not have\",\n",
    "    \"shan't\": \"shall not\",\n",
    "    \"sha'n't\": \"shall not\",\n",
    "    \"shan't've\": \"shall not have\",\n",
    "    \"she'd\": \"she would\",\n",
    "    \"she'd've\": \"she would have\",\n",
    "    \"she'll\": \"she will\",\n",
    "    \"she'll've\": \"she will have\",\n",
    "    \"she's\": \"she is\",\n",
    "    \"should've\": \"should have\",\n",
    "    \"shouldn't\": \"should not\",\n",
    "    \"shouldn't've\": \"should not have\",\n",
    "    \"so've\": \"so have\",\n",
    "    \"so's\": \"so is\",\n",
    "    \"that'd\": \"that would\",\n",
    "    \"that'd've\": \"that would have\",\n",
    "    \"that's\": \"that is\",\n",
    "    \"there'd\": \"there would\",\n",
    "    \"there'd've\": \"there would have\",\n",
    "    \"there's\": \"there is\",\n",
    "    \"they'd\": \"they would\",\n",
    "    \"they'd've\": \"they would have\",\n",
    "    \"they'll\": \"they will\",\n",
    "    \"they'll've\": \"they will have\",\n",
    "    \"they're\": \"they are\",\n",
    "    \"they've\": \"they have\",\n",
    "    \"to've\": \"to have\",\n",
    "    \"wasn't\": \"was not\",\n",
    "    \"we'd\": \"we would\",\n",
    "    \"we'd've\": \"we would have\",\n",
    "    \"we'll\": \"we will\",\n",
    "    \"we'll've\": \"we will have\",\n",
    "    \"we're\": \"we are\",\n",
    "    \"we've\": \"we have\",\n",
    "    \"weren't\": \"were not\",\n",
    "    \"what'll\": \"what will\",\n",
    "    \"what'll've\": \"what will have\",\n",
    "    \"what're\": \"what are\",\n",
    "    \"what's\": \"what is\",\n",
    "    \"what've\": \"what have\",\n",
    "    \"when's\": \"when is\",\n",
    "    \"when've\": \"when have\",\n",
    "    \"where'd\": \"where did\",\n",
    "    \"where's\": \"where is\",\n",
    "    \"where've\": \"where have\",\n",
    "    \"who'll\": \"who will\",\n",
    "    \"who'll've\": \"who will have\",\n",
    "    \"who's\": \"who is\",\n",
    "    \"who've\": \"who have\",\n",
    "    \"why's\": \"why is\",\n",
    "    \"why've\": \"why have\",\n",
    "    \"will've\": \"will have\",\n",
    "    \"won't\": \"will not\",\n",
    "    \"won't've\": \"will not have\",\n",
    "    \"would've\": \"would have\",\n",
    "    \"wouldn't\": \"would not\",\n",
    "    \"wouldn't've\": \"would not have\",\n",
    "    \"y'all\": \"you all\",\n",
    "    \"y'all'd\": \"you all would\",\n",
    "    \"y'all'd've\": \"you all would have\",\n",
    "    \"y'all're\": \"you all are\",\n",
    "    \"y'all've\": \"you all have\",\n",
    "    \"you'd\": \"you would\",\n",
    "    \"you'd've\": \"you would have\",\n",
    "    \"you'll\": \"you will\",\n",
    "    \"you'll've\": \"you will have\",\n",
    "    \"you're\": \"you are\",\n",
    "    \"you've\": \"you have\"\n",
    "}\n",
    "for i in range(df.shape[0]):\n",
    "    for key, value in abbrev_dict.items():\n",
    "        df.loc[i, 'plot'] =  str(df.loc[i, 'plot']).replace(key, value)\n",
    "\n",
    "df.to_csv('movies.csv')\n",
    "df.loc[10327, 'plot']"
   ],
   "metadata": {
    "collapsed": false,
    "ExecuteTime": {
     "end_time": "2024-03-31T22:59:37.323731Z",
     "start_time": "2024-03-31T22:45:48.564810Z"
    }
   }
  },
  {
   "cell_type": "markdown",
   "source": [
    "### Now we want to delete punctuation from plot text.\n"
   ],
   "metadata": {
    "collapsed": false
   }
  },
  {
   "cell_type": "code",
   "execution_count": 57,
   "outputs": [
    {
     "name": "stdout",
     "output_type": "stream",
     "text": [
      "Collecting tqdm\n",
      "  Downloading tqdm-4.66.2-py3-none-any.whl.metadata (57 kB)\n",
      "     ---------------------------------------- 0.0/57.6 kB ? eta -:--:--\n",
      "     ------- -------------------------------- 10.2/57.6 kB ? eta -:--:--\n",
      "     ------- -------------------------------- 10.2/57.6 kB ? eta -:--:--\n",
      "     ------- -------------------------------- 10.2/57.6 kB ? eta -:--:--\n",
      "     ------- -------------------------------- 10.2/57.6 kB ? eta -:--:--\n",
      "     ------- -------------------------------- 10.2/57.6 kB ? eta -:--:--\n",
      "     ------- -------------------------------- 10.2/57.6 kB ? eta -:--:--\n",
      "     ------- -------------------------------- 10.2/57.6 kB ? eta -:--:--\n",
      "     ------- -------------------------------- 10.2/57.6 kB ? eta -:--:--\n",
      "     ------- -------------------------------- 10.2/57.6 kB ? eta -:--:--\n",
      "     ------- -------------------------------- 10.2/57.6 kB ? eta -:--:--\n",
      "     ------- -------------------------------- 10.2/57.6 kB ? eta -:--:--\n",
      "     ------- -------------------------------- 10.2/57.6 kB ? eta -:--:--\n",
      "     ------- -------------------------------- 10.2/57.6 kB ? eta -:--:--\n",
      "     --------------------------- ----------- 41.0/57.6 kB 45.7 kB/s eta 0:00:01\n",
      "     --------------------------- ----------- 41.0/57.6 kB 45.7 kB/s eta 0:00:01\n",
      "     --------------------------- ----------- 41.0/57.6 kB 45.7 kB/s eta 0:00:01\n",
      "     --------------------------- ----------- 41.0/57.6 kB 45.7 kB/s eta 0:00:01\n",
      "     --------------------------------------- 57.6/57.6 kB 57.2 kB/s eta 0:00:00\n",
      "Requirement already satisfied: colorama in c:\\users\\hamid\\appdata\\local\\programs\\python\\python312\\lib\\site-packages (from tqdm) (0.4.6)\n",
      "Downloading tqdm-4.66.2-py3-none-any.whl (78 kB)\n",
      "   ---------------------------------------- 0.0/78.3 kB ? eta -:--:--\n",
      "   ----- ---------------------------------- 10.2/78.3 kB ? eta -:--:--\n",
      "   ------------------------------- -------- 61.4/78.3 kB 1.1 MB/s eta 0:00:01\n",
      "   ------------------------------- -------- 61.4/78.3 kB 1.1 MB/s eta 0:00:01\n",
      "   ------------------------------- -------- 61.4/78.3 kB 1.1 MB/s eta 0:00:01\n",
      "   ---------------------------------------- 78.3/78.3 kB 398.0 kB/s eta 0:00:00\n",
      "Installing collected packages: tqdm\n",
      "Successfully installed tqdm-4.66.2\n"
     ]
    }
   ],
   "source": [
    "!pip install tqdm"
   ],
   "metadata": {
    "collapsed": false,
    "ExecuteTime": {
     "end_time": "2024-03-31T23:09:22.868207600Z",
     "start_time": "2024-03-31T23:09:10.681033600Z"
    }
   }
  },
  {
   "cell_type": "code",
   "execution_count": 3,
   "outputs": [],
   "source": [
    "import string\n",
    "from tqdm import tqdm"
   ],
   "metadata": {
    "collapsed": false,
    "ExecuteTime": {
     "end_time": "2024-04-01T10:26:34.802180600Z",
     "start_time": "2024-04-01T10:26:34.757218800Z"
    }
   }
  },
  {
   "cell_type": "code",
   "execution_count": 59,
   "outputs": [
    {
     "name": "stderr",
     "output_type": "stream",
     "text": [
      "100%|██████████| 13839/13839 [00:13<00:00, 1042.40it/s]\n"
     ]
    }
   ],
   "source": [
    "trans_table = str.maketrans('', '', string.punctuation)\n",
    "for i in tqdm(range(df.shape[0])):\n",
    "        df.loc[i, 'plot'] =  str(df.loc[i, 'plot']).translate(trans_table)"
   ],
   "metadata": {
    "collapsed": false,
    "ExecuteTime": {
     "end_time": "2024-03-31T23:10:01.190808500Z",
     "start_time": "2024-03-31T23:09:47.834031300Z"
    }
   }
  },
  {
   "cell_type": "code",
   "execution_count": 62,
   "outputs": [],
   "source": [
    "df.to_csv('movies.csv')"
   ],
   "metadata": {
    "collapsed": false,
    "ExecuteTime": {
     "end_time": "2024-03-31T23:15:28.468763100Z",
     "start_time": "2024-03-31T23:15:28.310525900Z"
    }
   }
  },
  {
   "cell_type": "markdown",
   "source": [
    "### In this section we turn the number of voters to a normal form of integer. For example: 92K -> 92000 or 1.2M -> 1200000"
   ],
   "metadata": {
    "collapsed": false
   }
  },
  {
   "cell_type": "code",
   "execution_count": null,
   "outputs": [],
   "source": [
    "for i in range(df.shape[0]):\n",
    "    if df.loc[i, 'voters_count'][-1] == 'K':\n",
    "        df.loc[i, 'voters_count'] = int(float(df.loc[i, 'voters_count'][:-1]) * 1000)\n",
    "    else:\n",
    "        df.loc[i, 'voters_count'] = int(float(df.loc[i, 'voters_count'][:-1]) * 1000000)\n",
    "\n",
    "df.to_csv('movies.csv')"
   ],
   "metadata": {
    "collapsed": false
   }
  },
  {
   "cell_type": "code",
   "execution_count": 13,
   "outputs": [
    {
     "data": {
      "text/plain": "   Unnamed: 0.1  Unnamed: 0                                    name  year  \\\n0             0           0                              Road House  1989   \n1             1           1                                    Dune  1984   \n2             2           2                             Beetlejuice  1988   \n3             3           3                            Ghostbusters  1984   \n4             4           4                                The Crow  1994   \n5             5           5                The Shawshank Redemption  1994   \n6             6           6                           The Godfather  1972   \n7             7           7                            Come and See  1985   \n8             8           8                           The Vanishing  1988   \n9             9           9   Eternal Sunshine of the Spotless Mind  2004   \n\n   score voters_count                                               plot  \n0    6.7        92000  a bouncer hired to clean up the baddest honkyt...  \n1    6.3       177000  a dukes son leads desert warriors against the ...  \n2    7.5       337000  the spirits of a deceased couple are harassed ...  \n3    7.8       445000  three parapsychologists forced out of their un...  \n4    7.5       201000  a man brutally murdered comes back to life as ...  \n5    9.3      2900000  over the course of several years two convicts ...  \n6    9.2      2000000  the aging patriarch of an organized crime dyna...  \n7    8.4        96000  after finding an old rifle a young boy joins t...  \n8    7.7        44000  rex and saskia a young couple in love are on v...  \n9    8.3      1100000  when their relationship turns sour a couple un...  ",
      "text/html": "<div>\n<style scoped>\n    .dataframe tbody tr th:only-of-type {\n        vertical-align: middle;\n    }\n\n    .dataframe tbody tr th {\n        vertical-align: top;\n    }\n\n    .dataframe thead th {\n        text-align: right;\n    }\n</style>\n<table border=\"1\" class=\"dataframe\">\n  <thead>\n    <tr style=\"text-align: right;\">\n      <th></th>\n      <th>Unnamed: 0.1</th>\n      <th>Unnamed: 0</th>\n      <th>name</th>\n      <th>year</th>\n      <th>score</th>\n      <th>voters_count</th>\n      <th>plot</th>\n    </tr>\n  </thead>\n  <tbody>\n    <tr>\n      <th>0</th>\n      <td>0</td>\n      <td>0</td>\n      <td>Road House</td>\n      <td>1989</td>\n      <td>6.7</td>\n      <td>92000</td>\n      <td>a bouncer hired to clean up the baddest honkyt...</td>\n    </tr>\n    <tr>\n      <th>1</th>\n      <td>1</td>\n      <td>1</td>\n      <td>Dune</td>\n      <td>1984</td>\n      <td>6.3</td>\n      <td>177000</td>\n      <td>a dukes son leads desert warriors against the ...</td>\n    </tr>\n    <tr>\n      <th>2</th>\n      <td>2</td>\n      <td>2</td>\n      <td>Beetlejuice</td>\n      <td>1988</td>\n      <td>7.5</td>\n      <td>337000</td>\n      <td>the spirits of a deceased couple are harassed ...</td>\n    </tr>\n    <tr>\n      <th>3</th>\n      <td>3</td>\n      <td>3</td>\n      <td>Ghostbusters</td>\n      <td>1984</td>\n      <td>7.8</td>\n      <td>445000</td>\n      <td>three parapsychologists forced out of their un...</td>\n    </tr>\n    <tr>\n      <th>4</th>\n      <td>4</td>\n      <td>4</td>\n      <td>The Crow</td>\n      <td>1994</td>\n      <td>7.5</td>\n      <td>201000</td>\n      <td>a man brutally murdered comes back to life as ...</td>\n    </tr>\n    <tr>\n      <th>5</th>\n      <td>5</td>\n      <td>5</td>\n      <td>The Shawshank Redemption</td>\n      <td>1994</td>\n      <td>9.3</td>\n      <td>2900000</td>\n      <td>over the course of several years two convicts ...</td>\n    </tr>\n    <tr>\n      <th>6</th>\n      <td>6</td>\n      <td>6</td>\n      <td>The Godfather</td>\n      <td>1972</td>\n      <td>9.2</td>\n      <td>2000000</td>\n      <td>the aging patriarch of an organized crime dyna...</td>\n    </tr>\n    <tr>\n      <th>7</th>\n      <td>7</td>\n      <td>7</td>\n      <td>Come and See</td>\n      <td>1985</td>\n      <td>8.4</td>\n      <td>96000</td>\n      <td>after finding an old rifle a young boy joins t...</td>\n    </tr>\n    <tr>\n      <th>8</th>\n      <td>8</td>\n      <td>8</td>\n      <td>The Vanishing</td>\n      <td>1988</td>\n      <td>7.7</td>\n      <td>44000</td>\n      <td>rex and saskia a young couple in love are on v...</td>\n    </tr>\n    <tr>\n      <th>9</th>\n      <td>9</td>\n      <td>9</td>\n      <td>Eternal Sunshine of the Spotless Mind</td>\n      <td>2004</td>\n      <td>8.3</td>\n      <td>1100000</td>\n      <td>when their relationship turns sour a couple un...</td>\n    </tr>\n  </tbody>\n</table>\n</div>"
     },
     "execution_count": 13,
     "metadata": {},
     "output_type": "execute_result"
    }
   ],
   "source": [
    "df.head(10)"
   ],
   "metadata": {
    "collapsed": false,
    "ExecuteTime": {
     "end_time": "2024-04-01T10:36:18.344661600Z",
     "start_time": "2024-04-01T10:36:18.316776500Z"
    }
   }
  },
  {
   "cell_type": "markdown",
   "source": [
    "### Now we want to tokenize the plot for every movie and save it in a new column(tokens)"
   ],
   "metadata": {
    "collapsed": false
   }
  },
  {
   "cell_type": "code",
   "execution_count": 17,
   "outputs": [
    {
     "name": "stderr",
     "output_type": "stream",
     "text": [
      "[nltk_data] Downloading package punkt to\n",
      "[nltk_data]     C:\\Users\\Hamid\\AppData\\Roaming\\nltk_data...\n",
      "[nltk_data]   Unzipping tokenizers\\punkt.zip.\n"
     ]
    }
   ],
   "source": [
    "import nltk\n",
    "nltk.download('punkt')\n",
    "from nltk.tokenize import word_tokenize"
   ],
   "metadata": {
    "collapsed": false,
    "ExecuteTime": {
     "end_time": "2024-04-01T11:02:48.015229500Z",
     "start_time": "2024-04-01T11:02:41.719952900Z"
    }
   }
  },
  {
   "cell_type": "code",
   "execution_count": 42,
   "outputs": [
    {
     "name": "stderr",
     "output_type": "stream",
     "text": [
      "100%|██████████| 13839/13839 [00:02<00:00, 5214.58it/s]\n"
     ]
    }
   ],
   "source": [
    "tokens = []\n",
    "#indices = list(range(df.shape[0]))\n",
    "\n",
    "for i in tqdm(range(df.shape[0])):\n",
    "    plot_tokens = word_tokenize(str(df.loc[i, 'plot']))\n",
    "    tokens.append(plot_tokens)\n",
    "df.insert(len(df.columns),'tokens', tokens)"
   ],
   "metadata": {
    "collapsed": false,
    "ExecuteTime": {
     "end_time": "2024-04-01T12:43:18.540012600Z",
     "start_time": "2024-04-01T12:43:15.862667300Z"
    }
   }
  }
 ],
 "metadata": {
  "kernelspec": {
   "display_name": "Python 3",
   "language": "python",
   "name": "python3"
  },
  "language_info": {
   "codemirror_mode": {
    "name": "ipython",
    "version": 2
   },
   "file_extension": ".py",
   "mimetype": "text/x-python",
   "name": "python",
   "nbconvert_exporter": "python",
   "pygments_lexer": "ipython2",
   "version": "2.7.6"
  }
 },
 "nbformat": 4,
 "nbformat_minor": 0
}
