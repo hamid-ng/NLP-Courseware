{
 "cells": [
  {
   "cell_type": "code",
   "execution_count": null,
   "outputs": [],
   "source": [
    "!pip install pandas"
   ],
   "metadata": {
    "collapsed": false
   }
  },
  {
   "cell_type": "code",
   "execution_count": 23,
   "metadata": {
    "collapsed": true,
    "ExecuteTime": {
     "end_time": "2024-03-31T20:40:47.980772800Z",
     "start_time": "2024-03-31T20:40:47.967928700Z"
    }
   },
   "outputs": [],
   "source": [
    "import pandas as pd"
   ]
  },
  {
   "cell_type": "code",
   "execution_count": 30,
   "outputs": [],
   "source": [
    "df = pd.read_csv('movies.csv')"
   ],
   "metadata": {
    "collapsed": false,
    "ExecuteTime": {
     "end_time": "2024-03-31T20:41:47.446616100Z",
     "start_time": "2024-03-31T20:41:47.363220400Z"
    }
   }
  },
  {
   "cell_type": "markdown",
   "source": [
    "<p style=\"direction: rtl; text-align: right; font-size: 18px; font-family: B Nazanin;\">اطلاعات کلی دیتاست جمع‌آوری شده به صورت زیر قابل مشاهده می‌باشد</p>\n"
   ],
   "metadata": {
    "collapsed": false
   }
  },
  {
   "cell_type": "code",
   "execution_count": 31,
   "outputs": [
    {
     "name": "stdout",
     "output_type": "stream",
     "text": [
      "<class 'pandas.core.frame.DataFrame'>\n",
      "RangeIndex: 13839 entries, 0 to 13838\n",
      "Data columns (total 6 columns):\n",
      " #   Column        Non-Null Count  Dtype  \n",
      "---  ------        --------------  -----  \n",
      " 0   Unnamed: 0    13839 non-null  int64  \n",
      " 1   name          13839 non-null  object \n",
      " 2   year          13839 non-null  int64  \n",
      " 3   score         13839 non-null  float64\n",
      " 4   voters_count  13839 non-null  object \n",
      " 5   plot          13831 non-null  object \n",
      "dtypes: float64(1), int64(2), object(3)\n",
      "memory usage: 648.8+ KB\n"
     ]
    }
   ],
   "source": [
    "df.info()"
   ],
   "metadata": {
    "collapsed": false,
    "ExecuteTime": {
     "end_time": "2024-03-31T20:41:49.770817300Z",
     "start_time": "2024-03-31T20:41:49.750532600Z"
    }
   }
  },
  {
   "cell_type": "code",
   "execution_count": 32,
   "outputs": [
    {
     "data": {
      "text/plain": "   Unnamed: 0                                       name  year  score  \\\n0           0                              1. Road House  1989    6.7   \n1           1                                    2. Dune  1984    6.3   \n2           2                             3. Beetlejuice  1988    7.5   \n3           3                            4. Ghostbusters  1984    7.8   \n4           4                                5. The Crow  1994    7.5   \n5           5                6. The Shawshank Redemption  1994    9.3   \n6           6                           7. The Godfather  1972    9.2   \n7           7                            8. Come and See  1985    8.4   \n8           8                           9. The Vanishing  1988    7.7   \n9           9  10. Eternal Sunshine of the Spotless Mind  2004    8.3   \n\n  voters_count                                               plot  \n0          92K  A bouncer hired to clean up the baddest honkyt...  \n1         177K  A Duke's son leads desert warriors against the...  \n2         337K  The spirits of a deceased couple are harassed ...  \n3         445K  Three parapsychologists forced out of their un...  \n4         201K  A man brutally murdered comes back to life as ...  \n5         2.9M  Over the course of several years, two convicts...  \n6           2M  The aging patriarch of an organized crime dyna...  \n7          96K  After finding an old rifle, a young boy joins ...  \n8          44K  Rex and Saskia, a young couple in love, are on...  \n9         1.1M  When their relationship turns sour, a couple u...  ",
      "text/html": "<div>\n<style scoped>\n    .dataframe tbody tr th:only-of-type {\n        vertical-align: middle;\n    }\n\n    .dataframe tbody tr th {\n        vertical-align: top;\n    }\n\n    .dataframe thead th {\n        text-align: right;\n    }\n</style>\n<table border=\"1\" class=\"dataframe\">\n  <thead>\n    <tr style=\"text-align: right;\">\n      <th></th>\n      <th>Unnamed: 0</th>\n      <th>name</th>\n      <th>year</th>\n      <th>score</th>\n      <th>voters_count</th>\n      <th>plot</th>\n    </tr>\n  </thead>\n  <tbody>\n    <tr>\n      <th>0</th>\n      <td>0</td>\n      <td>1. Road House</td>\n      <td>1989</td>\n      <td>6.7</td>\n      <td>92K</td>\n      <td>A bouncer hired to clean up the baddest honkyt...</td>\n    </tr>\n    <tr>\n      <th>1</th>\n      <td>1</td>\n      <td>2. Dune</td>\n      <td>1984</td>\n      <td>6.3</td>\n      <td>177K</td>\n      <td>A Duke's son leads desert warriors against the...</td>\n    </tr>\n    <tr>\n      <th>2</th>\n      <td>2</td>\n      <td>3. Beetlejuice</td>\n      <td>1988</td>\n      <td>7.5</td>\n      <td>337K</td>\n      <td>The spirits of a deceased couple are harassed ...</td>\n    </tr>\n    <tr>\n      <th>3</th>\n      <td>3</td>\n      <td>4. Ghostbusters</td>\n      <td>1984</td>\n      <td>7.8</td>\n      <td>445K</td>\n      <td>Three parapsychologists forced out of their un...</td>\n    </tr>\n    <tr>\n      <th>4</th>\n      <td>4</td>\n      <td>5. The Crow</td>\n      <td>1994</td>\n      <td>7.5</td>\n      <td>201K</td>\n      <td>A man brutally murdered comes back to life as ...</td>\n    </tr>\n    <tr>\n      <th>5</th>\n      <td>5</td>\n      <td>6. The Shawshank Redemption</td>\n      <td>1994</td>\n      <td>9.3</td>\n      <td>2.9M</td>\n      <td>Over the course of several years, two convicts...</td>\n    </tr>\n    <tr>\n      <th>6</th>\n      <td>6</td>\n      <td>7. The Godfather</td>\n      <td>1972</td>\n      <td>9.2</td>\n      <td>2M</td>\n      <td>The aging patriarch of an organized crime dyna...</td>\n    </tr>\n    <tr>\n      <th>7</th>\n      <td>7</td>\n      <td>8. Come and See</td>\n      <td>1985</td>\n      <td>8.4</td>\n      <td>96K</td>\n      <td>After finding an old rifle, a young boy joins ...</td>\n    </tr>\n    <tr>\n      <th>8</th>\n      <td>8</td>\n      <td>9. The Vanishing</td>\n      <td>1988</td>\n      <td>7.7</td>\n      <td>44K</td>\n      <td>Rex and Saskia, a young couple in love, are on...</td>\n    </tr>\n    <tr>\n      <th>9</th>\n      <td>9</td>\n      <td>10. Eternal Sunshine of the Spotless Mind</td>\n      <td>2004</td>\n      <td>8.3</td>\n      <td>1.1M</td>\n      <td>When their relationship turns sour, a couple u...</td>\n    </tr>\n  </tbody>\n</table>\n</div>"
     },
     "execution_count": 32,
     "metadata": {},
     "output_type": "execute_result"
    }
   ],
   "source": [
    "df.head(10)"
   ],
   "metadata": {
    "collapsed": false,
    "ExecuteTime": {
     "end_time": "2024-03-31T20:41:53.723948400Z",
     "start_time": "2024-03-31T20:41:53.700579200Z"
    }
   }
  },
  {
   "cell_type": "markdown",
   "source": [
    "<p style=\"direction: rtl; text-align: right; font-size: 18px; font-family: B Nazanin;\">ابتدای نام فیلم‌ها دارای شماره می‌باشد که می‌خواهیم آن‌ها را حذف کنیم. این شماره‌ها ترتیب فیلم در لیست فیلم‌ها می باشد. در همه موارد بعد از عدد یک نقطه وجود دارد. با استفاده از این الگو اولین نقطه‌ای که در اسم آمده است را پیدا می‌کنیم و فقط بعد آن نقطه را نگه‌ می‌داریم</p>\n"
   ],
   "metadata": {
    "collapsed": false
   }
  },
  {
   "cell_type": "code",
   "execution_count": 33,
   "outputs": [],
   "source": [
    "for i in range(df.shape[0]):\n",
    "    first_dot = df.loc[i, 'name'].find('.')\n",
    "    df.loc[i, 'name'] = df.loc[i, 'name'][first_dot+1:]"
   ],
   "metadata": {
    "collapsed": false,
    "ExecuteTime": {
     "end_time": "2024-03-31T20:42:08.600284700Z",
     "start_time": "2024-03-31T20:42:01.715413100Z"
    }
   }
  },
  {
   "cell_type": "code",
   "execution_count": 34,
   "outputs": [
    {
     "data": {
      "text/plain": "   Unnamed: 0                                    name  year  score  \\\n0           0                              Road House  1989    6.7   \n1           1                                    Dune  1984    6.3   \n2           2                             Beetlejuice  1988    7.5   \n3           3                            Ghostbusters  1984    7.8   \n4           4                                The Crow  1994    7.5   \n5           5                The Shawshank Redemption  1994    9.3   \n6           6                           The Godfather  1972    9.2   \n7           7                            Come and See  1985    8.4   \n8           8                           The Vanishing  1988    7.7   \n9           9   Eternal Sunshine of the Spotless Mind  2004    8.3   \n\n  voters_count                                               plot  \n0          92K  A bouncer hired to clean up the baddest honkyt...  \n1         177K  A Duke's son leads desert warriors against the...  \n2         337K  The spirits of a deceased couple are harassed ...  \n3         445K  Three parapsychologists forced out of their un...  \n4         201K  A man brutally murdered comes back to life as ...  \n5         2.9M  Over the course of several years, two convicts...  \n6           2M  The aging patriarch of an organized crime dyna...  \n7          96K  After finding an old rifle, a young boy joins ...  \n8          44K  Rex and Saskia, a young couple in love, are on...  \n9         1.1M  When their relationship turns sour, a couple u...  ",
      "text/html": "<div>\n<style scoped>\n    .dataframe tbody tr th:only-of-type {\n        vertical-align: middle;\n    }\n\n    .dataframe tbody tr th {\n        vertical-align: top;\n    }\n\n    .dataframe thead th {\n        text-align: right;\n    }\n</style>\n<table border=\"1\" class=\"dataframe\">\n  <thead>\n    <tr style=\"text-align: right;\">\n      <th></th>\n      <th>Unnamed: 0</th>\n      <th>name</th>\n      <th>year</th>\n      <th>score</th>\n      <th>voters_count</th>\n      <th>plot</th>\n    </tr>\n  </thead>\n  <tbody>\n    <tr>\n      <th>0</th>\n      <td>0</td>\n      <td>Road House</td>\n      <td>1989</td>\n      <td>6.7</td>\n      <td>92K</td>\n      <td>A bouncer hired to clean up the baddest honkyt...</td>\n    </tr>\n    <tr>\n      <th>1</th>\n      <td>1</td>\n      <td>Dune</td>\n      <td>1984</td>\n      <td>6.3</td>\n      <td>177K</td>\n      <td>A Duke's son leads desert warriors against the...</td>\n    </tr>\n    <tr>\n      <th>2</th>\n      <td>2</td>\n      <td>Beetlejuice</td>\n      <td>1988</td>\n      <td>7.5</td>\n      <td>337K</td>\n      <td>The spirits of a deceased couple are harassed ...</td>\n    </tr>\n    <tr>\n      <th>3</th>\n      <td>3</td>\n      <td>Ghostbusters</td>\n      <td>1984</td>\n      <td>7.8</td>\n      <td>445K</td>\n      <td>Three parapsychologists forced out of their un...</td>\n    </tr>\n    <tr>\n      <th>4</th>\n      <td>4</td>\n      <td>The Crow</td>\n      <td>1994</td>\n      <td>7.5</td>\n      <td>201K</td>\n      <td>A man brutally murdered comes back to life as ...</td>\n    </tr>\n    <tr>\n      <th>5</th>\n      <td>5</td>\n      <td>The Shawshank Redemption</td>\n      <td>1994</td>\n      <td>9.3</td>\n      <td>2.9M</td>\n      <td>Over the course of several years, two convicts...</td>\n    </tr>\n    <tr>\n      <th>6</th>\n      <td>6</td>\n      <td>The Godfather</td>\n      <td>1972</td>\n      <td>9.2</td>\n      <td>2M</td>\n      <td>The aging patriarch of an organized crime dyna...</td>\n    </tr>\n    <tr>\n      <th>7</th>\n      <td>7</td>\n      <td>Come and See</td>\n      <td>1985</td>\n      <td>8.4</td>\n      <td>96K</td>\n      <td>After finding an old rifle, a young boy joins ...</td>\n    </tr>\n    <tr>\n      <th>8</th>\n      <td>8</td>\n      <td>The Vanishing</td>\n      <td>1988</td>\n      <td>7.7</td>\n      <td>44K</td>\n      <td>Rex and Saskia, a young couple in love, are on...</td>\n    </tr>\n    <tr>\n      <th>9</th>\n      <td>9</td>\n      <td>Eternal Sunshine of the Spotless Mind</td>\n      <td>2004</td>\n      <td>8.3</td>\n      <td>1.1M</td>\n      <td>When their relationship turns sour, a couple u...</td>\n    </tr>\n  </tbody>\n</table>\n</div>"
     },
     "execution_count": 34,
     "metadata": {},
     "output_type": "execute_result"
    }
   ],
   "source": [
    "df.head(10)"
   ],
   "metadata": {
    "collapsed": false,
    "ExecuteTime": {
     "end_time": "2024-03-31T20:42:14.455398500Z",
     "start_time": "2024-03-31T20:42:14.447852100Z"
    }
   }
  },
  {
   "cell_type": "code",
   "execution_count": 35,
   "outputs": [],
   "source": [
    "df.to_csv('movies.csv')"
   ],
   "metadata": {
    "collapsed": false,
    "ExecuteTime": {
     "end_time": "2024-03-31T20:44:53.952673600Z",
     "start_time": "2024-03-31T20:44:53.770439200Z"
    }
   }
  },
  {
   "cell_type": "code",
   "execution_count": null,
   "outputs": [],
   "source": [],
   "metadata": {
    "collapsed": false
   }
  }
 ],
 "metadata": {
  "kernelspec": {
   "display_name": "Python 3",
   "language": "python",
   "name": "python3"
  },
  "language_info": {
   "codemirror_mode": {
    "name": "ipython",
    "version": 2
   },
   "file_extension": ".py",
   "mimetype": "text/x-python",
   "name": "python",
   "nbconvert_exporter": "python",
   "pygments_lexer": "ipython2",
   "version": "2.7.6"
  }
 },
 "nbformat": 4,
 "nbformat_minor": 0
}
