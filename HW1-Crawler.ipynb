{
 "cells": [
  {
   "cell_type": "code",
   "execution_count": 110,
   "outputs": [],
   "source": [
    "from selenium import webdriver\n",
    "from selenium.webdriver.common.by import By\n",
    "import time\n",
    "import pandas as pd\n",
    "from selenium.common.exceptions import NoSuchElementException\n"
   ],
   "metadata": {
    "collapsed": false,
    "ExecuteTime": {
     "end_time": "2024-03-26T12:10:00.459564500Z",
     "start_time": "2024-03-26T12:10:00.443639700Z"
    }
   }
  },
  {
   "cell_type": "code",
   "execution_count": 111,
   "outputs": [],
   "source": [
    "driver = webdriver.Chrome()"
   ],
   "metadata": {
    "collapsed": false,
    "ExecuteTime": {
     "end_time": "2024-03-26T12:10:05.533012200Z",
     "start_time": "2024-03-26T12:10:02.605932400Z"
    }
   }
  },
  {
   "cell_type": "code",
   "execution_count": 113,
   "outputs": [],
   "source": [
    "driver.get(\"https://www.imdb.com/search/title/?title_type=feature&release_date=1970-01-01,2006-01-01&num_votes=1000,\")"
   ],
   "metadata": {
    "collapsed": false,
    "ExecuteTime": {
     "end_time": "2024-03-26T12:11:16.475169400Z",
     "start_time": "2024-03-26T12:11:12.171158100Z"
    }
   }
  },
  {
   "cell_type": "code",
   "execution_count": 117,
   "outputs": [
    {
     "name": "stdout",
     "output_type": "stream",
     "text": [
      "Finished\n"
     ]
    }
   ],
   "source": [
    "while True:\n",
    "    try:\n",
    "        element = driver.find_element(By.CLASS_NAME, \"ipc-see-more\")\n",
    "        element.click()\n",
    "        time.sleep(5)\n",
    "        element = driver.find_element(By.XPATH,\n",
    "                                      \"//body[1]/div[2]/main[1]/div[2]/div[3]/section[1]/section[1]/div[1]/section[1]/section[1]/div[2]/div[1]/section[1]/div[2]/div[2]/ul[1]/li[last()-1]\")\n",
    "        driver.execute_script(\"arguments[0].scrollIntoView();\", element)\n",
    "        time.sleep(2)\n",
    "    except NoSuchElementException:\n",
    "        print(\"Finished\")\n",
    "        break"
   ],
   "metadata": {
    "collapsed": false,
    "ExecuteTime": {
     "end_time": "2024-03-26T13:06:51.671649Z",
     "start_time": "2024-03-26T12:13:28.364313900Z"
    }
   }
  },
  {
   "cell_type": "code",
   "execution_count": 127,
   "outputs": [],
   "source": [
    "names = []\n",
    "plots = []\n",
    "years = []\n",
    "scores = []\n",
    "voters = []"
   ],
   "metadata": {
    "collapsed": false,
    "ExecuteTime": {
     "end_time": "2024-03-26T13:51:57.813138700Z",
     "start_time": "2024-03-26T13:51:57.803337800Z"
    }
   }
  },
  {
   "cell_type": "code",
   "execution_count": 128,
   "outputs": [],
   "source": [
    "\n",
    "movie_divs = driver.find_elements(By.CLASS_NAME, \"ipc-metadata-list-summary-item\")\n",
    "for m in movie_divs:\n",
    "    name = m.find_element(By.CLASS_NAME, \"ipc-title__text\").text\n",
    "    names.append(name)\n",
    "    try:\n",
    "        plot = m.find_element(By.CLASS_NAME, \"ipc-html-content-inner-div\").text\n",
    "        plots.append(plot)\n",
    "    except NoSuchElementException:\n",
    "        plots.append(\"\")\n",
    "\n",
    "    year = m.find_element(By.CLASS_NAME, \"dli-title-metadata-item\").text\n",
    "    years.append(year)\n",
    "    score = m.find_element(By.CLASS_NAME, \"ipc-rating-star\").text[0:3]\n",
    "    scores.append(score)\n",
    "    voters_count = m.find_element(By.CLASS_NAME, \"ipc-rating-star--voteCount\").text[2:-1]\n",
    "    voters.append(voters_count)"
   ],
   "metadata": {
    "collapsed": false,
    "ExecuteTime": {
     "end_time": "2024-03-26T14:11:51.117298900Z",
     "start_time": "2024-03-26T13:52:00.989061Z"
    }
   }
  },
  {
   "cell_type": "code",
   "execution_count": 131,
   "outputs": [
    {
     "name": "stdout",
     "output_type": "stream",
     "text": [
      "len(name) is:  13839\n",
      "len(year) is:  13839\n",
      "len(score) is:  13839\n",
      "len(voters_count) is:  13839\n",
      "len(plot) is:  13839\n",
      "                                 name  year score voters_count  \\\n",
      "0                       1. Road House  1989   6.7          92K   \n",
      "1                             2. Dune  1984   6.3         177K   \n",
      "2                      3. Beetlejuice  1988   7.5         337K   \n",
      "3                     4. Ghostbusters  1984   7.8         445K   \n",
      "4                         5. The Crow  1994   7.5         201K   \n",
      "...                               ...   ...   ...          ...   \n",
      "13834    13835. Etharkum Thuninthavan  1977   8.0         1.1K   \n",
      "13835            13836. Inconveniente  1999   7.8         4.1K   \n",
      "13836  13837. Everything for a Reason  2000   6.1         1.6K   \n",
      "13837                13838. Voro-Nova  1984   7.2         1.4K   \n",
      "13838            13839. Sulude godine  1988   6.0         1.2K   \n",
      "\n",
      "                                                    plot  \n",
      "0      A bouncer hired to clean up the baddest honkyt...  \n",
      "1      A Duke's son leads desert warriors against the...  \n",
      "2      The spirits of a deceased couple are harassed ...  \n",
      "3      Three parapsychologists forced out of their un...  \n",
      "4      A man brutally murdered comes back to life as ...  \n",
      "...                                                  ...  \n",
      "13834              Tamil musical drama with Pandari Bai.  \n",
      "13835  Four friends discover the real trip is at the ...  \n",
      "13836  When Manny, a young aspiring writer meets Eve,...  \n",
      "13837  Imagine a place, somewhere in the western worl...  \n",
      "13838  After the road accident, Zika and Milan end up...  \n",
      "\n",
      "[13839 rows x 5 columns]\n"
     ]
    }
   ],
   "source": [
    "movies = {'name': names, 'year': years, 'score': scores, 'voters_count': voters, 'plot': plots}\n",
    "for i in movies:\n",
    "    print(f\"len({i}) is: \",len(movies[i]))\n",
    "dataset = pd.DataFrame(movies)\n",
    "print(dataset)"
   ],
   "metadata": {
    "collapsed": false,
    "ExecuteTime": {
     "end_time": "2024-03-26T14:14:39.045245900Z",
     "start_time": "2024-03-26T14:14:39.009565800Z"
    }
   }
  },
  {
   "cell_type": "code",
   "execution_count": 132,
   "outputs": [],
   "source": [
    "dataset.to_csv('movies.csv')"
   ],
   "metadata": {
    "collapsed": false
   }
  }
 ],
 "metadata": {
  "kernelspec": {
   "display_name": "Python 3",
   "language": "python",
   "name": "python3"
  },
  "language_info": {
   "codemirror_mode": {
    "name": "ipython",
    "version": 2
   },
   "file_extension": ".py",
   "mimetype": "text/x-python",
   "name": "python",
   "nbconvert_exporter": "python",
   "pygments_lexer": "ipython2",
   "version": "2.7.6"
  }
 },
 "nbformat": 4,
 "nbformat_minor": 0
}
